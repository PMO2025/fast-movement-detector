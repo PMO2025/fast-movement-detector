{
 "cells": [
  {
   "cell_type": "code",
   "execution_count": 1,
   "metadata": {},
   "outputs": [],
   "source": [
    "%load_ext autoreload\n",
    "%autoreload 2"
   ]
  },
  {
   "cell_type": "code",
   "execution_count": 2,
   "metadata": {},
   "outputs": [],
   "source": [
    "from tqdm import tqdm\n",
    "from src.util import read_video\n",
    "from src.model import Model\n",
    "\n",
    "video, fps = read_video(\"./videos/test3.mp4\")\n",
    "video = video[:50]"
   ]
  },
  {
   "cell_type": "code",
   "execution_count": 3,
   "metadata": {},
   "outputs": [
    {
     "name": "stderr",
     "output_type": "stream",
     "text": [
      "  0%|          | 0/50 [00:00<?, ?it/s]"
     ]
    },
    {
     "name": "stdout",
     "output_type": "stream",
     "text": [
      "518\n"
     ]
    },
    {
     "name": "stderr",
     "output_type": "stream",
     "text": [
      "  2%|▏         | 1/50 [00:14<12:12, 14.95s/it]"
     ]
    },
    {
     "name": "stdout",
     "output_type": "stream",
     "text": [
      "tensor([[[[nan, nan, nan,  ..., nan, nan, nan],\n",
      "          [nan, nan, nan,  ..., nan, nan, nan],\n",
      "          [nan, nan, nan,  ..., nan, nan, nan],\n",
      "          ...,\n",
      "          [nan, nan, nan,  ..., nan, nan, nan],\n",
      "          [nan, nan, nan,  ..., nan, nan, nan],\n",
      "          [nan, nan, nan,  ..., nan, nan, nan]]],\n",
      "\n",
      "\n",
      "        [[[nan, nan, nan,  ..., nan, nan, nan],\n",
      "          [nan, nan, nan,  ..., nan, nan, nan],\n",
      "          [nan, nan, nan,  ..., nan, nan, nan],\n",
      "          ...,\n",
      "          [nan, nan, nan,  ..., nan, nan, nan],\n",
      "          [nan, nan, nan,  ..., nan, nan, nan],\n",
      "          [nan, nan, nan,  ..., nan, nan, nan]]],\n",
      "\n",
      "\n",
      "        [[[nan, nan, nan,  ..., nan, nan, nan],\n",
      "          [nan, nan, nan,  ..., nan, nan, nan],\n",
      "          [nan, nan, nan,  ..., nan, nan, nan],\n",
      "          ...,\n",
      "          [nan, nan, nan,  ..., nan, nan, nan],\n",
      "          [nan, nan, nan,  ..., nan, nan, nan],\n",
      "          [nan, nan, nan,  ..., nan, nan, nan]]],\n",
      "\n",
      "\n",
      "        ...,\n",
      "\n",
      "\n",
      "        [[[nan, nan, nan,  ..., nan, nan, nan],\n",
      "          [nan, nan, nan,  ..., nan, nan, nan],\n",
      "          [nan, nan, nan,  ..., nan, nan, nan],\n",
      "          ...,\n",
      "          [nan, nan, nan,  ..., nan, nan, nan],\n",
      "          [nan, nan, nan,  ..., nan, nan, nan],\n",
      "          [nan, nan, nan,  ..., nan, nan, nan]]],\n",
      "\n",
      "\n",
      "        [[[nan, nan, nan,  ..., nan, nan, nan],\n",
      "          [nan, nan, nan,  ..., nan, nan, nan],\n",
      "          [nan, nan, nan,  ..., nan, nan, nan],\n",
      "          ...,\n",
      "          [nan, nan, nan,  ..., nan, nan, nan],\n",
      "          [nan, nan, nan,  ..., nan, nan, nan],\n",
      "          [nan, nan, nan,  ..., nan, nan, nan]]],\n",
      "\n",
      "\n",
      "        [[[nan, nan, nan,  ..., nan, nan, nan],\n",
      "          [nan, nan, nan,  ..., nan, nan, nan],\n",
      "          [nan, nan, nan,  ..., nan, nan, nan],\n",
      "          ...,\n",
      "          [nan, nan, nan,  ..., nan, nan, nan],\n",
      "          [nan, nan, nan,  ..., nan, nan, nan],\n",
      "          [nan, nan, nan,  ..., nan, nan, nan]]]], device='cuda:0')\n",
      "tensor([[[[nan, nan, nan,  ..., nan, nan, nan],\n",
      "          [nan, nan, nan,  ..., nan, nan, nan],\n",
      "          [nan, nan, nan,  ..., nan, nan, nan],\n",
      "          ...,\n",
      "          [nan, nan, nan,  ..., nan, nan, nan],\n",
      "          [nan, nan, nan,  ..., nan, nan, nan],\n",
      "          [nan, nan, nan,  ..., nan, nan, nan]]],\n",
      "\n",
      "\n",
      "        [[[nan, nan, nan,  ..., nan, nan, nan],\n",
      "          [nan, nan, nan,  ..., nan, nan, nan],\n",
      "          [nan, nan, nan,  ..., nan, nan, nan],\n",
      "          ...,\n",
      "          [nan, nan, nan,  ..., nan, nan, nan],\n",
      "          [nan, nan, nan,  ..., nan, nan, nan],\n",
      "          [nan, nan, nan,  ..., nan, nan, nan]]],\n",
      "\n",
      "\n",
      "        [[[nan, nan, nan,  ..., nan, nan, nan],\n",
      "          [nan, nan, nan,  ..., nan, nan, nan],\n",
      "          [nan, nan, nan,  ..., nan, nan, nan],\n",
      "          ...,\n",
      "          [nan, nan, nan,  ..., nan, nan, nan],\n",
      "          [nan, nan, nan,  ..., nan, nan, nan],\n",
      "          [nan, nan, nan,  ..., nan, nan, nan]]],\n",
      "\n",
      "\n",
      "        ...,\n",
      "\n",
      "\n",
      "        [[[nan, nan, nan,  ..., nan, nan, nan],\n",
      "          [nan, nan, nan,  ..., nan, nan, nan],\n",
      "          [nan, nan, nan,  ..., nan, nan, nan],\n",
      "          ...,\n",
      "          [nan, nan, nan,  ..., nan, nan, nan],\n",
      "          [nan, nan, nan,  ..., nan, nan, nan],\n",
      "          [nan, nan, nan,  ..., nan, nan, nan]]],\n",
      "\n",
      "\n",
      "        [[[nan, nan, nan,  ..., nan, nan, nan],\n",
      "          [nan, nan, nan,  ..., nan, nan, nan],\n",
      "          [nan, nan, nan,  ..., nan, nan, nan],\n",
      "          ...,\n",
      "          [nan, nan, nan,  ..., nan, nan, nan],\n",
      "          [nan, nan, nan,  ..., nan, nan, nan],\n",
      "          [nan, nan, nan,  ..., nan, nan, nan]]],\n",
      "\n",
      "\n",
      "        [[[nan, nan, nan,  ..., nan, nan, nan],\n",
      "          [nan, nan, nan,  ..., nan, nan, nan],\n",
      "          [nan, nan, nan,  ..., nan, nan, nan],\n",
      "          ...,\n",
      "          [nan, nan, nan,  ..., nan, nan, nan],\n",
      "          [nan, nan, nan,  ..., nan, nan, nan],\n",
      "          [nan, nan, nan,  ..., nan, nan, nan]]]], device='cuda:0')\n"
     ]
    },
    {
     "name": "stderr",
     "output_type": "stream",
     "text": [
      "100%|██████████| 50/50 [00:29<00:00,  1.67it/s]\n"
     ]
    }
   ],
   "source": [
    "from src.depth.vda import VideoDepthAnythingModel\n",
    "\n",
    "vda = VideoDepthAnythingModel(device=\"cuda\")\n",
    "raw_depths = list(tqdm(vda.create_stream(video), total=len(video)))"
   ]
  },
  {
   "cell_type": "code",
   "execution_count": 4,
   "metadata": {},
   "outputs": [
    {
     "data": {
      "text/plain": [
       "<matplotlib.image.AxesImage at 0x76dc079dc370>"
      ]
     },
     "execution_count": 4,
     "metadata": {},
     "output_type": "execute_result"
    },
    {
     "data": {
      "image/png": "[encoded data removed]",
      "text/plain": [
       "<Figure size 640x480 with 1 Axes>"
      ]
     },
     "metadata": {},
     "output_type": "display_data"
    }
   ],
   "source": [
    "# max_depth = max(d.max() for d in raw_depths)\n",
    "# depths = [max_depth - d for d in raw_depths]\n",
    "\n",
    "from matplotlib import pyplot as plt\n",
    "\n",
    "# print(raw_depths[0])\n",
    "plt.imshow(raw_depths[10])\n",
    "# depths = [-d for d in raw_depths]"
   ]
  },
  {
   "cell_type": "code",
   "execution_count": null,
   "metadata": {},
   "outputs": [],
   "source": [
    "model = Model(processing_shape=(384, 640))\n",
    "\n",
    "preds = tqdm(model.infer(video, fps=fps,\n",
    "             depth_stream=depths), total=len(video))\n",
    "vis = list(model.visualize(preds))\n",
    "\n",
    "write_video(\"./vis.mp4\", vis, fps)"
   ]
  },
  {
   "cell_type": "code",
   "execution_count": 23,
   "metadata": {},
   "outputs": [],
   "source": [
    "import av\n",
    "from matplotlib import pyplot as plt\n",
    "import numpy as np\n",
    "\n",
    "container = av.open(\"./videos/test1.mkv\")\n",
    "\n",
    "for frame in container.decode(video=0):\n",
    "    # print(frame.to_ndarray().shape)\n",
    "    print(frame.to_ndarray())\n",
    "    # plt.imshow(np.asarray(frame.to_image()))\n",
    "    break"
   ]
  },
  {
   "cell_type": "code",
   "execution_count": null,
   "metadata": {},
   "outputs": [],
   "source": [
    "from __future__ import division\n",
    "\n",
    "import cv2\n",
    "import numpy as np\n",
    "\n",
    "\n",
    "frames, fps = read_video(\"./vis.mp4\")\n",
    "# write_video(\"./test.webm\", \"webm\", frames, fps)\n",
    "\n",
    "r = cv2.resize(frames[0], (100, 100))\n",
    "\n",
    "plt.imshow(r)"
   ]
  },
  {
   "cell_type": "code",
   "execution_count": null,
   "metadata": {},
   "outputs": [],
   "source": [
    "from scipy.signal import savgol_filter\n",
    "from numpy.polynomial.polynomial import Polynomial\n",
    "\n",
    "# xs = np.linspace(-2, 2, 5)\n",
    "# # print(xs)\n",
    "# # np.polynomial.polynomial.fit()\n",
    "# ys = n\n",
    "\n",
    "# def sav_gol(xs, wi):\n",
    "\n",
    "\n",
    "# plt.plot(xs, ns)\n",
    "\n",
    "# poly = np.polynomial.polynomial.Polynomial.fit(xs, ys, 4)\n",
    "\n",
    "def sav_gol(xs, win_size, deg, deriv=0, delta=1):\n",
    "    assert win_size % 2 == 1\n",
    "\n",
    "    h = (win_size-1)//2\n",
    "\n",
    "    win = np.linspace(-h, h, win_size)\n",
    "\n",
    "    out = [0] * h\n",
    "\n",
    "    for i in range(h, len(xs) - h):\n",
    "        poly = Polynomial.fit(win, xs[i-h:i+h+1], deg)\n",
    "\n",
    "        for _ in range(deriv):\n",
    "            poly = poly.deriv()\n",
    "\n",
    "        out.append(poly(0) / (delta**deriv))\n",
    "\n",
    "    out += [0] * h\n",
    "\n",
    "    return out\n",
    "\n",
    "\n",
    "def fn(xs):\n",
    "    # return np.sin(xs)\n",
    "    return np.where(xs > 0, xs, 0)\n",
    "\n",
    "\n",
    "def fn_der(xs):\n",
    "    # return np.cos(xs)\n",
    "    return xs > 0\n",
    "\n",
    "\n",
    "xs = np.linspace(-10, 10, 1000)\n",
    "ys = fn(xs)\n",
    "ns = ys + np.random.normal(size=len(xs)) / 10\n",
    "\n",
    "# print(ys)\n",
    "\n",
    "ws = 99\n",
    "deg = 4\n",
    "der = 1\n",
    "\n",
    "plt.plot(xs, ns)\n",
    "plt.plot(xs, fn_der(xs))\n",
    "plt.plot(xs, sav_gol(ns, ws, deg, der, delta=xs[1]-xs[0]))\n",
    "plt.show()\n",
    "\n",
    "plt.plot(xs, ns)\n",
    "plt.plot(xs, fn_der(xs))\n",
    "plt.plot(xs, savgol_filter(ns, ws, deg, der, delta=xs[1]-xs[0]))\n",
    "plt.show()"
   ]
  }
 ],
 "metadata": {
  "kernelspec": {
   "display_name": ".venv",
   "language": "python",
   "name": "python3"
  },
  "language_info": {
   "codemirror_mode": {
    "name": "ipython",
    "version": 3
   },
   "file_extension": ".py",
   "mimetype": "text/x-python",
   "name": "python",
   "nbconvert_exporter": "python",
   "pygments_lexer": "ipython3",
   "version": "3.10.16"
  }
 },
 "nbformat": 4,
 "nbformat_minor": 2
}
